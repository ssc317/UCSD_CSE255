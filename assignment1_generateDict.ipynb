{
 "cells": [
  {
   "cell_type": "code",
   "execution_count": 1,
   "metadata": {
    "collapsed": false
   },
   "outputs": [
    {
     "name": "stdout",
     "output_type": "stream",
     "text": [
      "start for loop\n",
      "Save data to the local file ../dicts_500.pickle\n",
      "done\n",
      "Save data to the local file ../dicts_5000.pickle\n",
      "done\n",
      "Save data to the local file ../dicts_50000.pickle\n",
      "done\n"
     ]
    },
    {
     "ename": "KeyboardInterrupt",
     "evalue": "",
     "output_type": "error",
     "traceback": [
      "\u001b[1;31m---------------------------------------------------------------------------\u001b[0m",
      "\u001b[1;31mKeyboardInterrupt\u001b[0m                         Traceback (most recent call last)",
      "\u001b[1;32m<ipython-input-1-aab70cac7b01>\u001b[0m in \u001b[0;36m<module>\u001b[1;34m()\u001b[0m\n\u001b[0;32m     44\u001b[0m                 \u001b[0mnHelpful\u001b[0m \u001b[1;33m=\u001b[0m \u001b[0ml\u001b[0m\u001b[1;33m[\u001b[0m\u001b[1;34m'helpful'\u001b[0m\u001b[1;33m]\u001b[0m\u001b[1;33m[\u001b[0m\u001b[1;34m'nHelpful'\u001b[0m\u001b[1;33m]\u001b[0m \u001b[1;33m*\u001b[0m \u001b[1;36m1.0\u001b[0m\u001b[1;33m;\u001b[0m\u001b[1;33m\u001b[0m\u001b[0m\n\u001b[0;32m     45\u001b[0m                 \u001b[0mdict_count\u001b[0m\u001b[1;33m[\u001b[0m\u001b[0mword\u001b[0m\u001b[1;33m]\u001b[0m \u001b[1;33m+=\u001b[0m \u001b[1;36m1\u001b[0m\u001b[1;33m\u001b[0m\u001b[0m\n\u001b[1;32m---> 46\u001b[1;33m                 \u001b[0mdict_nHelpful\u001b[0m\u001b[1;33m[\u001b[0m\u001b[0mword\u001b[0m\u001b[1;33m]\u001b[0m \u001b[1;33m+=\u001b[0m \u001b[0mnHelpful\u001b[0m\u001b[1;33m\u001b[0m\u001b[0m\n\u001b[0m\u001b[0;32m     47\u001b[0m                 \u001b[0mdict_helpful\u001b[0m\u001b[1;33m[\u001b[0m\u001b[0mword\u001b[0m\u001b[1;33m]\u001b[0m \u001b[1;33m+=\u001b[0m \u001b[0mnHelpful\u001b[0m \u001b[1;33m/\u001b[0m \u001b[0moutOf\u001b[0m\u001b[1;33m\u001b[0m\u001b[0m\n\u001b[0;32m     48\u001b[0m             \u001b[0mdict_all\u001b[0m\u001b[1;33m[\u001b[0m\u001b[0mword\u001b[0m\u001b[1;33m]\u001b[0m \u001b[1;33m+=\u001b[0m \u001b[1;36m1\u001b[0m\u001b[1;33m\u001b[0m\u001b[0m\n",
      "\u001b[1;31mKeyboardInterrupt\u001b[0m: "
     ]
    }
   ],
   "source": [
    "# -*- coding: utf-8 -*-\n",
    "\"\"\"\n",
    "Created on Thu Oct 22 16:21:43 2015\n",
    "\n",
    "@author: ssc317\n",
    "\"\"\"\n",
    "# In[] generate small train file\n",
    "import gzip\n",
    "from collections import defaultdict\n",
    "import string\n",
    "def readGz(f):\n",
    "  for l in gzip.open(f):\n",
    "    yield eval(l)\n",
    "    \n",
    "\n",
    "import string\n",
    "import mylib\n",
    "stopwords = ['i', 'me', 'my', 'myself', 'we', 'our', 'ours', 'ourselves', 'you',\n",
    "'your', 'yours', 'yourself', 'yourselves', 'he', 'him', 'his', 'himself',\n",
    "'she', 'her', 'hers', 'herself', 'it', 'its', 'itself', 'they', 'them',\n",
    "'their', 'theirs', 'themselves', 'what', 'which', 'who', 'whom', 'this',\n",
    "'that', 'these', 'those', 'am', 'is', 'are', 'was', 'were', 'be', 'been',\n",
    "'being', 'have', 'has', 'had', 'having', 'do', 'does', 'did', 'doing',\n",
    "'a', 'an', 'the', 'and', 'but', 'if', 'or', 'because', 'as', 'until',\n",
    "'while', 'of', 'at', 'by', 'for', 'with', 'about', 'against', 'between',\n",
    "'into', 'through', 'during', 'before', 'after', 'above', 'below', 'to',\n",
    "'from', 'up', 'down', 'in', 'out', 'on', 'off', 'over', 'under', 'again',\n",
    "'further', 'then', 'once', 'here', 'there', 'when', 'where', 'why',\n",
    "'how', 'all', 'any', 'both', 'each', 'few', 'more', 'most', 'other',\n",
    "'some', 'such', 'no', 'nor', 'not', 'only', 'own', 'same', 'so', 'than',\n",
    "'too', 'very', 's', 't', 'can', 'will', 'just', 'don', 'should', 'now']\n",
    "\n",
    "dict_all, dict_count, dict_nHelpful, dict_helpful = defaultdict(float),defaultdict(int),defaultdict(float),defaultdict(float)\n",
    "punc = string.punctuation\n",
    "i = 0\n",
    "print \"start for loop\"\n",
    "for l in readGz(\"../train.json.gz\"):\n",
    "    outOf = l['helpful']['outOf']\n",
    "    review = ''.join([o for o in list(l['reviewText']) if not o in punc]).split()\n",
    "    for word in review:\n",
    "        word = word.lower()\n",
    "        if word not in stopwords:\n",
    "            if outOf != 0:\n",
    "                nHelpful = l['helpful']['nHelpful'] * 1.0;\n",
    "                dict_count[word] += 1\n",
    "                dict_nHelpful[word] += nHelpful\n",
    "                dict_helpful[word] += nHelpful / outOf\n",
    "            dict_all[word] += 1\n",
    "    i += 1\n",
    "    if i == 500:\n",
    "        mylib.saveData('../dicts_500',[dict_all, dict_count, dict_nHelpful, dict_helpful])\n",
    "    elif i == 5000:\n",
    "        mylib.saveData('../dicts_5000',[dict_all, dict_count, dict_nHelpful, dict_helpful])\n",
    "    elif i == 50000:\n",
    "        mylib.saveData('../dicts_50000',[dict_all, dict_count, dict_nHelpful, dict_helpful])\n",
    "    elif i == 500000:\n",
    "        mylib.saveData('../dicts_500000',[dict_all, dict_count, dict_nHelpful, dict_helpful])\n",
    "    if i == 500000:\n",
    "        break"
   ]
  },
  {
   "cell_type": "code",
   "execution_count": 14,
   "metadata": {
    "collapsed": false
   },
   "outputs": [
    {
     "name": "stdout",
     "output_type": "stream",
     "text": [
      "Load data from local\n",
      "done\n"
     ]
    }
   ],
   "source": [
    "[dict_all, dict_count, dict_nHelpful, dict_helpful] = mylib.loadData('../dicts_500000')"
   ]
  },
  {
   "cell_type": "code",
   "execution_count": 15,
   "metadata": {
    "collapsed": false
   },
   "outputs": [],
   "source": [
    "from operator import itemgetter\n",
    "sort_dict_count = sorted(dict_count.items(), key=lambda x:x[1], reverse=True)"
   ]
  },
  {
   "cell_type": "code",
   "execution_count": 19,
   "metadata": {
    "collapsed": false
   },
   "outputs": [
    {
     "data": {
      "text/plain": [
       "[('book', 587122),\n",
       " ('story', 257397),\n",
       " ('one', 256088),\n",
       " ('read', 241983),\n",
       " ('like', 182466),\n",
       " ('love', 147127),\n",
       " ('would', 142193),\n",
       " ('characters', 140798),\n",
       " ('really', 132497),\n",
       " ('time', 119788)]"
      ]
     },
     "execution_count": 19,
     "metadata": {},
     "output_type": "execute_result"
    }
   ],
   "source": [
    "sort_dict_count[:10]"
   ]
  },
  {
   "cell_type": "code",
   "execution_count": 28,
   "metadata": {
    "collapsed": false
   },
   "outputs": [
    {
     "data": {
      "text/plain": [
       "['book',\n",
       " 'story',\n",
       " 'read',\n",
       " 'one',\n",
       " 'like',\n",
       " 'love',\n",
       " 'characters',\n",
       " 'really',\n",
       " 'would',\n",
       " 'good']"
      ]
     },
     "execution_count": 28,
     "metadata": {},
     "output_type": "execute_result"
    }
   ],
   "source": [
    "b = [a[0] for a in sort_dict_all[:10]]\n",
    "b"
   ]
  },
  {
   "cell_type": "code",
   "execution_count": 23,
   "metadata": {
    "collapsed": false
   },
   "outputs": [
    {
     "data": {
      "text/plain": [
       "'book'"
      ]
     },
     "execution_count": 23,
     "metadata": {},
     "output_type": "execute_result"
    }
   ],
   "source": [
    "a[0]"
   ]
  },
  {
   "cell_type": "code",
   "execution_count": null,
   "metadata": {
    "collapsed": true
   },
   "outputs": [],
   "source": []
  }
 ],
 "metadata": {
  "kernelspec": {
   "display_name": "Python 2",
   "language": "python",
   "name": "python2"
  },
  "language_info": {
   "codemirror_mode": {
    "name": "ipython",
    "version": 2
   },
   "file_extension": ".py",
   "mimetype": "text/x-python",
   "name": "python",
   "nbconvert_exporter": "python",
   "pygments_lexer": "ipython2",
   "version": "2.7.10"
  }
 },
 "nbformat": 4,
 "nbformat_minor": 0
}
