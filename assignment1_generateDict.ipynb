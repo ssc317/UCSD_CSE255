{
 "cells": [
  {
   "cell_type": "code",
   "execution_count": 29,
   "metadata": {
    "collapsed": false
   },
   "outputs": [
    {
     "name": "stdout",
     "output_type": "stream",
     "text": [
      "start for loop\n",
      "Save data to the local file ../dicts_500.pickle\n",
      "done\n",
      "Save data to the local file ../dicts_5000.pickle\n",
      "done\n",
      "Save data to the local file ../dicts_50000.pickle\n",
      "done\n",
      "Save data to the local file ../dicts_500000.pickle\n",
      "done\n"
     ]
    }
   ],
   "source": [
    "# -*- coding: utf-8 -*-\n",
    "\"\"\"\n",
    "Created on Thu Oct 22 16:21:43 2015\n",
    "\n",
    "@author: ssc317\n",
    "\"\"\"\n",
    "# In[] generate small train file\n",
    "import gzip\n",
    "from collections import defaultdict\n",
    "import string\n",
    "def readGz(f):\n",
    "  for l in gzip.open(f):\n",
    "    yield eval(l)\n",
    "    \n",
    "\n",
    "import string\n",
    "import mylib\n",
    "stopwords = ['i', 'me', 'my', 'myself', 'we', 'our', 'ours', 'ourselves', 'you',\n",
    "'your', 'yours', 'yourself', 'yourselves', 'he', 'him', 'his', 'himself',\n",
    "'she', 'her', 'hers', 'herself', 'it', 'its', 'itself', 'they', 'them',\n",
    "'their', 'theirs', 'themselves', 'what', 'which', 'who', 'whom', 'this',\n",
    "'that', 'these', 'those', 'am', 'is', 'are', 'was', 'were', 'be', 'been',\n",
    "'being', 'have', 'has', 'had', 'having', 'do', 'does', 'did', 'doing',\n",
    "'a', 'an', 'the', 'and', 'but', 'if', 'or', 'because', 'as', 'until',\n",
    "'while', 'of', 'at', 'by', 'for', 'with', 'about', 'against', 'between',\n",
    "'into', 'through', 'during', 'before', 'after', 'above', 'below', 'to',\n",
    "'from', 'up', 'down', 'in', 'out', 'on', 'off', 'over', 'under', 'again',\n",
    "'further', 'then', 'once', 'here', 'there', 'when', 'where', 'why',\n",
    "'how', 'all', 'any', 'both', 'each', 'few', 'more', 'most', 'other',\n",
    "'some', 'such', 'no', 'nor', 'not', 'only', 'own', 'same', 'so', 'than',\n",
    "'too', 'very', 's', 't', 'can', 'will', 'just', 'don', 'should', 'now']\n",
    "\n",
    "dict_all, dict_count, dict_nHelpful, dict_helpful = defaultdict(float),defaultdict(int),defaultdict(float),defaultdict(float)\n",
    "punc = string.punctuation\n",
    "i = 0\n",
    "print \"start for loop\"\n",
    "for l in readGz(\"../train.json.gz\"):\n",
    "    outOf = l['helpful']['outOf']\n",
    "    review = ''.join([o if not o in punc else ' ' for o in list(l['reviewText'])]).split()\n",
    "    for word in review:\n",
    "        word = word.lower()\n",
    "        if word not in stopwords:\n",
    "            if outOf != 0:\n",
    "                nHelpful = l['helpful']['nHelpful'] * 1.0;\n",
    "                dict_count[word] += 1\n",
    "                dict_nHelpful[word] += nHelpful\n",
    "                dict_helpful[word] += nHelpful / outOf\n",
    "            dict_all[word] += 1\n",
    "    i += 1\n",
    "    if i == 500:\n",
    "        mylib.saveData('../dicts_500',[dict_all, dict_count, dict_nHelpful, dict_helpful])\n",
    "    elif i == 5000:\n",
    "        mylib.saveData('../dicts_5000',[dict_all, dict_count, dict_nHelpful, dict_helpful])\n",
    "    elif i == 50000:\n",
    "        mylib.saveData('../dicts_50000',[dict_all, dict_count, dict_nHelpful, dict_helpful])\n",
    "    elif i == 500000:\n",
    "        mylib.saveData('../dicts_500000',[dict_all, dict_count, dict_nHelpful, dict_helpful])\n",
    "    if i == 500000:\n",
    "        break"
   ]
  },
  {
   "cell_type": "code",
   "execution_count": 34,
   "metadata": {
    "collapsed": false
   },
   "outputs": [
    {
     "name": "stdout",
     "output_type": "stream",
     "text": [
      "Load data from local\n",
      "done\n"
     ]
    }
   ],
   "source": [
    "[dict_all, dict_count, dict_nHelpful, dict_helpful] = mylib.loadData('../dicts_50000')"
   ]
  },
  {
   "cell_type": "code",
   "execution_count": 35,
   "metadata": {
    "collapsed": false
   },
   "outputs": [],
   "source": [
    "from operator import itemgetter\n",
    "sort_dict_count = sorted(dict_count.items(), key=lambda x:x[1], reverse=True)"
   ]
  },
  {
   "cell_type": "code",
   "execution_count": 36,
   "metadata": {
    "collapsed": false
   },
   "outputs": [
    {
     "data": {
      "text/plain": [
       "[('book', 61095),\n",
       " ('one', 27305),\n",
       " ('story', 26889),\n",
       " ('read', 25664),\n",
       " ('like', 18711),\n",
       " ('love', 15426),\n",
       " ('would', 14629),\n",
       " ('characters', 14397),\n",
       " ('really', 13516),\n",
       " ('time', 12975)]"
      ]
     },
     "execution_count": 36,
     "metadata": {},
     "output_type": "execute_result"
    }
   ],
   "source": [
    "sort_dict_count[:10]"
   ]
  },
  {
   "cell_type": "code",
   "execution_count": 37,
   "metadata": {
    "collapsed": false
   },
   "outputs": [
    {
     "data": {
      "text/plain": [
       "['book',\n",
       " 'story',\n",
       " 'read',\n",
       " 'one',\n",
       " 'like',\n",
       " 'love',\n",
       " 'characters',\n",
       " 'really',\n",
       " 'would',\n",
       " 'good']"
      ]
     },
     "execution_count": 37,
     "metadata": {},
     "output_type": "execute_result"
    }
   ],
   "source": [
    "b = [a[0] for a in sort_dict_all[:10]]\n",
    "b"
   ]
  },
  {
   "cell_type": "code",
   "execution_count": 23,
   "metadata": {
    "collapsed": false
   },
   "outputs": [
    {
     "data": {
      "text/plain": [
       "'book'"
      ]
     },
     "execution_count": 23,
     "metadata": {},
     "output_type": "execute_result"
    }
   ],
   "source": [
    "a[0]"
   ]
  },
  {
   "cell_type": "code",
   "execution_count": null,
   "metadata": {
    "collapsed": true
   },
   "outputs": [],
   "source": []
  }
 ],
 "metadata": {
  "kernelspec": {
   "display_name": "Python 2",
   "language": "python",
   "name": "python2"
  },
  "language_info": {
   "codemirror_mode": {
    "name": "ipython",
    "version": 2
   },
   "file_extension": ".py",
   "mimetype": "text/x-python",
   "name": "python",
   "nbconvert_exporter": "python",
   "pygments_lexer": "ipython2",
   "version": "2.7.10"
  }
 },
 "nbformat": 4,
 "nbformat_minor": 0
}
