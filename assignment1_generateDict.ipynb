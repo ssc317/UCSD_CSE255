{
 "cells": [
  {
   "cell_type": "code",
   "execution_count": 29,
   "metadata": {
    "collapsed": false
   },
   "outputs": [
    {
     "name": "stdout",
     "output_type": "stream",
     "text": [
      "start for loop\n",
      "Save data to the local file ../dicts_500.pickle\n",
      "done\n",
      "Save data to the local file ../dicts_5000.pickle\n",
      "done\n",
      "Save data to the local file ../dicts_50000.pickle\n",
      "done\n",
      "Save data to the local file ../dicts_500000.pickle\n",
      "done\n"
     ]
    }
   ],
   "source": [
    "# -*- coding: utf-8 -*-\n",
    "\"\"\"\n",
    "Created on Thu Oct 22 16:21:43 2015\n",
    "\n",
    "@author: ssc317\n",
    "\"\"\"\n",
    "# In[] generate small train file\n",
    "import gzip\n",
    "from collections import defaultdict\n",
    "import string\n",
    "def readGz(f):\n",
    "  for l in gzip.open(f):\n",
    "    yield eval(l)\n",
    "    \n",
    "\n",
    "import string\n",
    "import mylib\n",
    "stopwords = ['i', 'me', 'my', 'myself', 'we', 'our', 'ours', 'ourselves', 'you',\n",
    "'your', 'yours', 'yourself', 'yourselves', 'he', 'him', 'his', 'himself',\n",
    "'she', 'her', 'hers', 'herself', 'it', 'its', 'itself', 'they', 'them',\n",
    "'their', 'theirs', 'themselves', 'what', 'which', 'who', 'whom', 'this',\n",
    "'that', 'these', 'those', 'am', 'is', 'are', 'was', 'were', 'be', 'been',\n",
    "'being', 'have', 'has', 'had', 'having', 'do', 'does', 'did', 'doing',\n",
    "'a', 'an', 'the', 'and', 'but', 'if', 'or', 'because', 'as', 'until',\n",
    "'while', 'of', 'at', 'by', 'for', 'with', 'about', 'against', 'between',\n",
    "'into', 'through', 'during', 'before', 'after', 'above', 'below', 'to',\n",
    "'from', 'up', 'down', 'in', 'out', 'on', 'off', 'over', 'under', 'again',\n",
    "'further', 'then', 'once', 'here', 'there', 'when', 'where', 'why',\n",
    "'how', 'all', 'any', 'both', 'each', 'few', 'more', 'most', 'other',\n",
    "'some', 'such', 'no', 'nor', 'not', 'only', 'own', 'same', 'so', 'than',\n",
    "'too', 'very', 's', 't', 'can', 'will', 'just', 'don', 'should', 'now']\n",
    "\n",
    "dict_all, dict_count, dict_nHelpful, dict_helpful = defaultdict(float),defaultdict(int),defaultdict(float),defaultdict(float)\n",
    "punc = string.punctuation\n",
    "i = 0\n",
    "print \"start for loop\"\n",
    "for l in readGz(\"../train.json.gz\"):\n",
    "    outOf = l['helpful']['outOf']\n",
    "    review = ''.join([o if not o in punc else ' ' for o in list(l['reviewText'])]).split()\n",
    "    for word in review:\n",
    "        word = word.lower()\n",
    "        if word not in stopwords:\n",
    "            if outOf != 0:\n",
    "                nHelpful = l['helpful']['nHelpful'] * 1.0;\n",
    "                dict_count[word] += 1\n",
    "                dict_nHelpful[word] += nHelpful\n",
    "                dict_helpful[word] += nHelpful / outOf\n",
    "            dict_all[word] += 1\n",
    "    i += 1\n",
    "    if i == 500:\n",
    "        mylib.saveData('../dicts_500',[dict_all, dict_count, dict_nHelpful, dict_helpful])\n",
    "    elif i == 5000:\n",
    "        mylib.saveData('../dicts_5000',[dict_all, dict_count, dict_nHelpful, dict_helpful])\n",
    "    elif i == 50000:\n",
    "        mylib.saveData('../dicts_50000',[dict_all, dict_count, dict_nHelpful, dict_helpful])\n",
    "    elif i == 500000:\n",
    "        mylib.saveData('../dicts_500000',[dict_all, dict_count, dict_nHelpful, dict_helpful])\n",
    "    if i == 500000:\n",
    "        break"
   ]
  },
  {
   "cell_type": "code",
   "execution_count": 34,
   "metadata": {
    "collapsed": false
   },
   "outputs": [
    {
     "name": "stdout",
     "output_type": "stream",
     "text": [
      "Load data from local\n",
      "done\n"
     ]
    }
   ],
   "source": [
    "[dict_all, dict_count, dict_nHelpful, dict_helpful] = mylib.loadData('../dicts_50000')"
   ]
  },
  {
   "cell_type": "code",
   "execution_count": 35,
   "metadata": {
    "collapsed": false
   },
   "outputs": [],
   "source": [
    "from operator import itemgetter\n",
    "sort_dict_count = sorted(dict_count.items(), key=lambda x:x[1], reverse=True)"
   ]
  },
  {
   "cell_type": "code",
   "execution_count": 38,
   "metadata": {
    "collapsed": false
   },
   "outputs": [
    {
     "data": {
      "text/plain": [
       "[('book', 99312.0),\n",
       " ('story', 45550.0),\n",
       " ('read', 43947.0),\n",
       " ('one', 41649.0),\n",
       " ('like', 30013.0),\n",
       " ('love', 28179.0),\n",
       " ('characters', 24635.0),\n",
       " ('really', 23861.0),\n",
       " ('would', 23216.0),\n",
       " ('good', 19974.0)]"
      ]
     },
     "execution_count": 38,
     "metadata": {},
     "output_type": "execute_result"
    }
   ],
   "source": [
    "sort_dict_all[:10]"
   ]
  },
  {
   "cell_type": "code",
   "execution_count": 45,
   "metadata": {
    "collapsed": false
   },
   "outputs": [
    {
     "data": {
      "text/plain": [
       "['book',\n",
       " 'one',\n",
       " 'story',\n",
       " 'read',\n",
       " 'like',\n",
       " 'love',\n",
       " 'would',\n",
       " 'characters',\n",
       " 'really',\n",
       " 'time',\n",
       " 'life',\n",
       " 'well',\n",
       " 'first',\n",
       " 'much',\n",
       " 'good',\n",
       " 'books',\n",
       " 'even',\n",
       " 'get',\n",
       " 'also',\n",
       " 'series',\n",
       " 'way',\n",
       " 'author',\n",
       " 'reading',\n",
       " 'novel',\n",
       " 'many',\n",
       " 'great',\n",
       " 'people',\n",
       " 'know',\n",
       " 'could',\n",
       " 'two',\n",
       " 'new',\n",
       " 'think',\n",
       " 'world',\n",
       " 'see',\n",
       " 'little',\n",
       " 'make',\n",
       " 'end',\n",
       " 'character',\n",
       " 'never',\n",
       " 'm',\n",
       " 'find',\n",
       " 'didn',\n",
       " 'things',\n",
       " 'back',\n",
       " 'loved',\n",
       " 'want',\n",
       " 'family',\n",
       " 'going',\n",
       " 'still',\n",
       " 'man',\n",
       " 'us',\n",
       " 'found',\n",
       " 'years',\n",
       " 'writing',\n",
       " 'plot',\n",
       " 'made',\n",
       " 'though',\n",
       " 'written',\n",
       " 'say',\n",
       " 'another',\n",
       " 'something',\n",
       " 'work',\n",
       " 'best',\n",
       " 'go',\n",
       " 'interesting',\n",
       " 'next',\n",
       " 've',\n",
       " 'reader',\n",
       " 'lot',\n",
       " '8217',\n",
       " 'feel',\n",
       " 'part',\n",
       " 'doesn',\n",
       " 'bit',\n",
       " 'thought',\n",
       " 'long',\n",
       " 'every',\n",
       " 'right',\n",
       " 'enjoyed',\n",
       " 'real',\n",
       " 'better',\n",
       " 'makes',\n",
       " 'take',\n",
       " 'however',\n",
       " 'romance',\n",
       " 'always',\n",
       " 'times',\n",
       " 'old',\n",
       " 'different',\n",
       " 'felt',\n",
       " 'enough',\n",
       " 'may',\n",
       " 'put',\n",
       " 'ever',\n",
       " 'come',\n",
       " 'stories',\n",
       " 'give',\n",
       " 'young',\n",
       " 'together',\n",
       " 'review']"
      ]
     },
     "execution_count": 45,
     "metadata": {},
     "output_type": "execute_result"
    }
   ],
   "source": [
    "b = [a[0] for a in sort_dict_count[:100]]\n",
    "b"
   ]
  },
  {
   "cell_type": "code",
   "execution_count": 43,
   "metadata": {
    "collapsed": false
   },
   "outputs": [
    {
     "data": {
      "text/plain": [
       "['book',\n",
       " 'story',\n",
       " 'read',\n",
       " 'one',\n",
       " 'like',\n",
       " 'love',\n",
       " 'characters',\n",
       " 'really',\n",
       " 'would',\n",
       " 'good']"
      ]
     },
     "execution_count": 43,
     "metadata": {},
     "output_type": "execute_result"
    }
   ],
   "source": [
    "b = [a[0] for a in sort_dict_all[:10]]\n",
    "b"
   ]
  },
  {
   "cell_type": "code",
   "execution_count": null,
   "metadata": {
    "collapsed": true
   },
   "outputs": [],
   "source": []
  }
 ],
 "metadata": {
  "kernelspec": {
   "display_name": "Python 2",
   "language": "python",
   "name": "python2"
  },
  "language_info": {
   "codemirror_mode": {
    "name": "ipython",
    "version": 2
   },
   "file_extension": ".py",
   "mimetype": "text/x-python",
   "name": "python",
   "nbconvert_exporter": "python",
   "pygments_lexer": "ipython2",
   "version": "2.7.10"
  }
 },
 "nbformat": 4,
 "nbformat_minor": 0
}
